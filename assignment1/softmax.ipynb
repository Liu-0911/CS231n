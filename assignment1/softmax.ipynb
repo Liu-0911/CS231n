{
 "cells": [
  {
   "cell_type": "markdown",
   "metadata": {
    "tags": [
     "pdf-title"
    ]
   },
   "source": [
    "# Softmax exercise\n",
    "\n",
    "*Complete and hand in this completed worksheet (including its outputs and any supporting code outside of the worksheet) with your assignment submission. For more details see the [assignments page](http://vision.stanford.edu/teaching/cs231n/assignments.html) on the course website.*\n",
    "\n",
    "This exercise is analogous to the SVM exercise. You will:\n",
    "\n",
    "- implement a fully-vectorized **loss function** for the Softmax classifier\n",
    "- implement the fully-vectorized expression for its **analytic gradient**\n",
    "- **check your implementation** with numerical gradient\n",
    "- use a validation set to **tune the learning rate and regularization** strength\n",
    "- **optimize** the loss function with **SGD**\n",
    "- **visualize** the final learned weights\n"
   ]
  },
  {
   "cell_type": "code",
   "execution_count": 1,
   "metadata": {
    "tags": [
     "pdf-ignore"
    ]
   },
   "outputs": [],
   "source": [
    "import random\n",
    "import numpy as np\n",
    "from cs231n.data_utils import load_CIFAR10\n",
    "import matplotlib.pyplot as plt\n",
    "\n",
    "%matplotlib inline\n",
    "plt.rcParams['figure.figsize'] = (10.0, 8.0) # set default size of plots\n",
    "plt.rcParams['image.interpolation'] = 'nearest'\n",
    "plt.rcParams['image.cmap'] = 'gray'\n",
    "\n",
    "# for auto-reloading extenrnal modules\n",
    "# see http://stackoverflow.com/questions/1907993/autoreload-of-modules-in-ipython\n",
    "%load_ext autoreload\n",
    "%autoreload 2"
   ]
  },
  {
   "cell_type": "code",
   "execution_count": 2,
   "metadata": {
    "tags": [
     "pdf-ignore"
    ]
   },
   "outputs": [
    {
     "name": "stdout",
     "output_type": "stream",
     "text": [
      "Train data shape:  (49000, 3073)\n",
      "Train labels shape:  (49000,)\n",
      "Validation data shape:  (1000, 3073)\n",
      "Validation labels shape:  (1000,)\n",
      "Test data shape:  (1000, 3073)\n",
      "Test labels shape:  (1000,)\n",
      "dev data shape:  (500, 3073)\n",
      "dev labels shape:  (500,)\n"
     ]
    }
   ],
   "source": [
    "def get_CIFAR10_data(num_training=49000, num_validation=1000, num_test=1000, num_dev=500):\n",
    "    \"\"\"\n",
    "    Load the CIFAR-10 dataset from disk and perform preprocessing to prepare\n",
    "    it for the linear classifier. These are the same steps as we used for the\n",
    "    SVM, but condensed to a single function.  \n",
    "    \"\"\"\n",
    "    # Load the raw CIFAR-10 data\n",
    "    cifar10_dir = 'cs231n/datasets/cifar-10-batches-py'\n",
    "    \n",
    "    # Cleaning up variables to prevent loading data multiple times (which may cause memory issue)\n",
    "    try:\n",
    "       del X_train, y_train\n",
    "       del X_test, y_test\n",
    "       print('Clear previously loaded data.')\n",
    "    except:\n",
    "       pass\n",
    "\n",
    "    X_train, y_train, X_test, y_test = load_CIFAR10(cifar10_dir)\n",
    "    \n",
    "    # subsample the data\n",
    "    mask = list(range(num_training, num_training + num_validation))\n",
    "    X_val = X_train[mask]\n",
    "    y_val = y_train[mask]\n",
    "    mask = list(range(num_training))\n",
    "    X_train = X_train[mask]\n",
    "    y_train = y_train[mask]\n",
    "    mask = list(range(num_test))\n",
    "    X_test = X_test[mask]\n",
    "    y_test = y_test[mask]\n",
    "    mask = np.random.choice(num_training, num_dev, replace=False)\n",
    "    X_dev = X_train[mask]\n",
    "    y_dev = y_train[mask]\n",
    "    \n",
    "    # Preprocessing: reshape the image data into rows\n",
    "    X_train = np.reshape(X_train, (X_train.shape[0], -1))\n",
    "    X_val = np.reshape(X_val, (X_val.shape[0], -1))\n",
    "    X_test = np.reshape(X_test, (X_test.shape[0], -1))\n",
    "    X_dev = np.reshape(X_dev, (X_dev.shape[0], -1))\n",
    "    \n",
    "    # Normalize the data: subtract the mean image\n",
    "    mean_image = np.mean(X_train, axis = 0)\n",
    "    X_train -= mean_image\n",
    "    X_val -= mean_image\n",
    "    X_test -= mean_image\n",
    "    X_dev -= mean_image\n",
    "    \n",
    "    # add bias dimension and transform into columns\n",
    "    X_train = np.hstack([X_train, np.ones((X_train.shape[0], 1))])\n",
    "    X_val = np.hstack([X_val, np.ones((X_val.shape[0], 1))])\n",
    "    X_test = np.hstack([X_test, np.ones((X_test.shape[0], 1))])\n",
    "    X_dev = np.hstack([X_dev, np.ones((X_dev.shape[0], 1))])\n",
    "    \n",
    "    return X_train, y_train, X_val, y_val, X_test, y_test, X_dev, y_dev\n",
    "\n",
    "\n",
    "# Invoke the above function to get our data.\n",
    "X_train, y_train, X_val, y_val, X_test, y_test, X_dev, y_dev = get_CIFAR10_data()\n",
    "print('Train data shape: ', X_train.shape)\n",
    "print('Train labels shape: ', y_train.shape)\n",
    "print('Validation data shape: ', X_val.shape)\n",
    "print('Validation labels shape: ', y_val.shape)\n",
    "print('Test data shape: ', X_test.shape)\n",
    "print('Test labels shape: ', y_test.shape)\n",
    "print('dev data shape: ', X_dev.shape)\n",
    "print('dev labels shape: ', y_dev.shape)"
   ]
  },
  {
   "cell_type": "markdown",
   "metadata": {},
   "source": [
    "## Softmax Classifier\n",
    "\n",
    "Your code for this section will all be written inside `cs231n/classifiers/softmax.py`.\n"
   ]
  },
  {
   "cell_type": "code",
   "execution_count": 19,
   "metadata": {},
   "outputs": [
    {
     "name": "stdout",
     "output_type": "stream",
     "text": [
      "loss: 2.443775\n",
      "sanity check: 2.302585\n"
     ]
    }
   ],
   "source": [
    "# First implement the naive softmax loss function with nested loops.\n",
    "# Open the file cs231n/classifiers/softmax.py and implement the\n",
    "# softmax_loss_naive function.\n",
    "\n",
    "from cs231n.classifiers.softmax import softmax_loss_naive\n",
    "import time\n",
    "\n",
    "# Generate a random softmax weight matrix and use it to compute the loss.\n",
    "W = np.random.randn(3073, 10) * 0.0001\n",
    "loss, grad = softmax_loss_naive(W, X_dev, y_dev, 0.0)\n",
    "\n",
    "# As a rough sanity check, our loss should be something close to -log(0.1).\n",
    "print('loss: %f' % loss)\n",
    "print('sanity check: %f' % (-np.log(0.1)))"
   ]
  },
  {
   "cell_type": "markdown",
   "metadata": {
    "tags": [
     "pdf-inline"
    ]
   },
   "source": [
    "**Inline Question 1**\n",
    "\n",
    "Why do we expect our loss to be close to -log(0.1)? Explain briefly.**\n",
    "\n",
    "$\\color{blue}{\\textit Your Answer:}$ *Fill this in* \n",
    "\n",
    "- W各元素接近0，exp(0)=1，带入公式可得\n"
   ]
  },
  {
   "cell_type": "code",
   "execution_count": 25,
   "metadata": {},
   "outputs": [
    {
     "name": "stdout",
     "output_type": "stream",
     "text": [
      "numerical: -1.571225 analytic: -1.571225, relative error: 6.988773e-09\n",
      "numerical: 1.146764 analytic: 1.146764, relative error: 6.755794e-08\n",
      "numerical: 3.204451 analytic: 3.204451, relative error: 1.104916e-08\n",
      "numerical: 3.199367 analytic: 3.199367, relative error: 1.170912e-08\n",
      "numerical: 3.505783 analytic: 3.505782, relative error: 8.683027e-09\n",
      "numerical: -3.793733 analytic: -3.793733, relative error: 7.578944e-09\n",
      "numerical: -6.408841 analytic: -6.408841, relative error: 6.914029e-09\n",
      "numerical: -0.110553 analytic: -0.110553, relative error: 1.114473e-07\n",
      "numerical: -1.690444 analytic: -1.690444, relative error: 2.055361e-08\n",
      "numerical: -0.151656 analytic: -0.151656, relative error: 3.479722e-07\n",
      "numerical: -4.595109 analytic: -4.595109, relative error: 5.484929e-10\n",
      "numerical: 1.554720 analytic: 1.554720, relative error: 1.800776e-08\n",
      "numerical: 1.909753 analytic: 1.909753, relative error: 2.969731e-08\n",
      "numerical: 0.212605 analytic: 0.212605, relative error: 2.452183e-07\n",
      "numerical: -2.637286 analytic: -2.637286, relative error: 7.820828e-09\n",
      "numerical: 2.483699 analytic: 2.483699, relative error: 1.538547e-08\n",
      "numerical: -0.363698 analytic: -0.363698, relative error: 1.569386e-07\n",
      "numerical: 1.505118 analytic: 1.505118, relative error: 1.114219e-08\n",
      "numerical: -1.276020 analytic: -1.276020, relative error: 3.383783e-08\n",
      "numerical: 3.163531 analytic: 3.163531, relative error: 3.064845e-09\n"
     ]
    }
   ],
   "source": [
    "# Complete the implementation of softmax_loss_naive and implement a (naive)\n",
    "# version of the gradient that uses nested loops.\n",
    "loss, grad = softmax_loss_naive(W, X_dev, y_dev, 0.0)\n",
    "\n",
    "# As we did for the SVM, use numeric gradient checking as a debugging tool.\n",
    "# The numeric gradient should be close to the analytic gradient.\n",
    "from cs231n.gradient_check import grad_check_sparse\n",
    "f = lambda w: softmax_loss_naive(w, X_dev, y_dev, 0.0)[0]\n",
    "grad_numerical = grad_check_sparse(f, W, grad, 10)\n",
    "\n",
    "# similar to SVM case, do another gradient check with regularization\n",
    "loss, grad = softmax_loss_naive(W, X_dev, y_dev, 5e1)\n",
    "f = lambda w: softmax_loss_naive(w, X_dev, y_dev, 5e1)[0]\n",
    "grad_numerical = grad_check_sparse(f, W, grad, 10)"
   ]
  },
  {
   "cell_type": "code",
   "execution_count": 27,
   "metadata": {},
   "outputs": [
    {
     "name": "stdout",
     "output_type": "stream",
     "text": [
      "naive loss: 2.443775e+00 computed in 0.108706s\n",
      "vectorized loss: 2.443775e+00 computed in 0.005540s\n",
      "Loss difference: 0.000000\n",
      "Gradient difference: 0.000000\n"
     ]
    }
   ],
   "source": [
    "# Now that we have a naive implementation of the softmax loss function and its gradient,\n",
    "# implement a vectorized version in softmax_loss_vectorized.\n",
    "# The two versions should compute the same results, but the vectorized version should be\n",
    "# much faster.\n",
    "tic = time.time()\n",
    "loss_naive, grad_naive = softmax_loss_naive(W, X_dev, y_dev, 0.000005)\n",
    "toc = time.time()\n",
    "print('naive loss: %e computed in %fs' % (loss_naive, toc - tic))\n",
    "\n",
    "from cs231n.classifiers.softmax import softmax_loss_vectorized\n",
    "tic = time.time()\n",
    "loss_vectorized, grad_vectorized = softmax_loss_vectorized(W, X_dev, y_dev, 0.000005)\n",
    "toc = time.time()\n",
    "print('vectorized loss: %e computed in %fs' % (loss_vectorized, toc - tic))\n",
    "\n",
    "# As we did for the SVM, we use the Frobenius norm to compare the two versions\n",
    "# of the gradient.\n",
    "grad_difference = np.linalg.norm(grad_naive - grad_vectorized, ord='fro')\n",
    "print('Loss difference: %f' % np.abs(loss_naive - loss_vectorized))\n",
    "print('Gradient difference: %f' % grad_difference)"
   ]
  },
  {
   "cell_type": "code",
   "execution_count": null,
   "metadata": {},
   "outputs": [],
   "source": []
  },
  {
   "cell_type": "code",
   "execution_count": 35,
   "metadata": {},
   "outputs": [
    {
     "name": "stdout",
     "output_type": "stream",
     "text": [
      "iteration 0 / 1500: loss 5.592751\n",
      "iteration 100 / 1500: loss 2.472199\n",
      "iteration 200 / 1500: loss 3.108414\n",
      "iteration 300 / 1500: loss 2.772482\n",
      "iteration 400 / 1500: loss 4.148579\n",
      "iteration 500 / 1500: loss 2.307516\n",
      "iteration 600 / 1500: loss 2.796673\n",
      "iteration 700 / 1500: loss 2.645956\n",
      "iteration 800 / 1500: loss 3.211544\n",
      "iteration 900 / 1500: loss 3.853479\n",
      "iteration 1000 / 1500: loss 2.983322\n",
      "iteration 1100 / 1500: loss 2.335345\n",
      "iteration 1200 / 1500: loss 2.761209\n",
      "iteration 1300 / 1500: loss 2.494161\n",
      "iteration 1400 / 1500: loss 2.369269\n",
      "That took 11.981943s\n"
     ]
    },
    {
     "data": {
      "image/png": "[encoded data removed]",
      "text/plain": [
       "<Figure size 432x288 with 1 Axes>"
      ]
     },
     "metadata": {
      "needs_background": "light"
     },
     "output_type": "display_data"
    }
   ],
   "source": [
    "# CREATED BY MYSELF -- learning rate selection\n",
    "from cs231n.classifiers import Softmax\n",
    "softmax_clf = Softmax()\n",
    "\n",
    "tic = time.time()\n",
    "\n",
    "loss_history = softmax_clf.train(X_train, y_train, learning_rate=5e-7, reg=1e-5, num_iters=1500, verbose=True)\n",
    "\n",
    "toc = time.time()\n",
    "\n",
    "print('That took %fs' % (toc - tic))\n",
    "\n",
    "plt.plot(loss_history)\n",
    "plt.xlabel('#Iteration')\n",
    "plt.ylabel('Loss')\n",
    "plt.show()"
   ]
  },
  {
   "cell_type": "code",
   "execution_count": null,
   "metadata": {},
   "outputs": [],
   "source": []
  },
  {
   "cell_type": "code",
   "execution_count": 46,
   "metadata": {
    "id": "tuning",
    "tags": [
     "code"
    ]
   },
   "outputs": [
    {
     "name": "stdout",
     "output_type": "stream",
     "text": [
      "lr 5.000000e-08 reg 5.000000e+03 train accuracy: 0.139163 val accuracy: 0.130000\n",
      "lr 5.000000e-08 reg 7.500000e+03 train accuracy: 0.132245 val accuracy: 0.116000\n",
      "lr 5.000000e-08 reg 1.000000e+04 train accuracy: 0.154980 val accuracy: 0.135000\n",
      "lr 5.000000e-08 reg 2.500000e+04 train accuracy: 0.155143 val accuracy: 0.163000\n",
      "lr 5.000000e-08 reg 5.000000e+04 train accuracy: 0.167061 val accuracy: 0.182000\n",
      "lr 5.000000e-08 reg 7.500000e+04 train accuracy: 0.179714 val accuracy: 0.195000\n",
      "lr 5.000000e-08 reg 1.000000e+05 train accuracy: 0.209429 val accuracy: 0.234000\n",
      "lr 5.000000e-08 reg 2.500000e+05 train accuracy: 0.265122 val accuracy: 0.287000\n",
      "lr 5.000000e-08 reg 5.000000e+05 train accuracy: 0.253061 val accuracy: 0.262000\n",
      "lr 1.000000e-07 reg 5.000000e+03 train accuracy: 0.177633 val accuracy: 0.170000\n",
      "lr 1.000000e-07 reg 7.500000e+03 train accuracy: 0.180571 val accuracy: 0.202000\n",
      "lr 1.000000e-07 reg 1.000000e+04 train accuracy: 0.174224 val accuracy: 0.174000\n",
      "lr 1.000000e-07 reg 2.500000e+04 train accuracy: 0.212122 val accuracy: 0.230000\n",
      "lr 1.000000e-07 reg 5.000000e+04 train accuracy: 0.240020 val accuracy: 0.256000\n",
      "lr 1.000000e-07 reg 7.500000e+04 train accuracy: 0.277224 val accuracy: 0.294000\n",
      "lr 1.000000e-07 reg 1.000000e+05 train accuracy: 0.290184 val accuracy: 0.298000\n",
      "lr 1.000000e-07 reg 2.500000e+05 train accuracy: 0.278714 val accuracy: 0.293000\n",
      "lr 1.000000e-07 reg 5.000000e+05 train accuracy: 0.271551 val accuracy: 0.280000\n",
      "lr 5.000000e-07 reg 5.000000e+03 train accuracy: 0.285245 val accuracy: 0.296000\n",
      "lr 5.000000e-07 reg 7.500000e+03 train accuracy: 0.313898 val accuracy: 0.326000\n",
      "lr 5.000000e-07 reg 1.000000e+04 train accuracy: 0.332429 val accuracy: 0.336000\n",
      "lr 5.000000e-07 reg 2.500000e+04 train accuracy: 0.327633 val accuracy: 0.335000\n",
      "lr 5.000000e-07 reg 5.000000e+04 train accuracy: 0.314490 val accuracy: 0.325000\n",
      "lr 5.000000e-07 reg 7.500000e+04 train accuracy: 0.292735 val accuracy: 0.312000\n",
      "lr 5.000000e-07 reg 1.000000e+05 train accuracy: 0.274673 val accuracy: 0.286000\n",
      "lr 5.000000e-07 reg 2.500000e+05 train accuracy: 0.258367 val accuracy: 0.279000\n",
      "lr 5.000000e-07 reg 5.000000e+05 train accuracy: 0.245776 val accuracy: 0.264000\n",
      "lr 1.000000e-06 reg 5.000000e+03 train accuracy: 0.343857 val accuracy: 0.359000\n",
      "lr 1.000000e-06 reg 7.500000e+03 train accuracy: 0.360000 val accuracy: 0.371000\n",
      "lr 1.000000e-06 reg 1.000000e+04 train accuracy: 0.350837 val accuracy: 0.353000\n",
      "lr 1.000000e-06 reg 2.500000e+04 train accuracy: 0.310673 val accuracy: 0.331000\n",
      "lr 1.000000e-06 reg 5.000000e+04 train accuracy: 0.299531 val accuracy: 0.302000\n",
      "lr 1.000000e-06 reg 7.500000e+04 train accuracy: 0.300184 val accuracy: 0.319000\n",
      "lr 1.000000e-06 reg 1.000000e+05 train accuracy: 0.278061 val accuracy: 0.284000\n",
      "lr 1.000000e-06 reg 2.500000e+05 train accuracy: 0.247408 val accuracy: 0.271000\n",
      "lr 1.000000e-06 reg 5.000000e+05 train accuracy: 0.215286 val accuracy: 0.216000\n",
      "lr 5.000000e-06 reg 5.000000e+03 train accuracy: 0.291980 val accuracy: 0.311000\n",
      "lr 5.000000e-06 reg 7.500000e+03 train accuracy: 0.283878 val accuracy: 0.273000\n",
      "lr 5.000000e-06 reg 1.000000e+04 train accuracy: 0.257796 val accuracy: 0.252000\n",
      "lr 5.000000e-06 reg 2.500000e+04 train accuracy: 0.220959 val accuracy: 0.223000\n",
      "lr 5.000000e-06 reg 5.000000e+04 train accuracy: 0.134082 val accuracy: 0.125000\n",
      "lr 5.000000e-06 reg 7.500000e+04 train accuracy: 0.090837 val accuracy: 0.072000\n",
      "lr 5.000000e-06 reg 1.000000e+05 train accuracy: 0.126531 val accuracy: 0.118000\n"
     ]
    },
    {
     "name": "stderr",
     "output_type": "stream",
     "text": [
      "D:\\JupyterNotes\\assignment1\\cs231n\\classifiers\\softmax.py:96: RuntimeWarning: divide by zero encountered in log\n"
     ]
    },
    {
     "name": "stdout",
     "output_type": "stream",
     "text": [
      "lr 5.000000e-06 reg 2.500000e+05 train accuracy: 0.111510 val accuracy: 0.104000\n",
      "lr 5.000000e-06 reg 5.000000e+05 train accuracy: 0.127980 val accuracy: 0.132000\n",
      "best validation accuracy achieved during cross-validation: 0.371000\n"
     ]
    }
   ],
   "source": [
    "# Use the validation set to tune hyperparameters (regularization strength and\n",
    "# learning rate). You should experiment with different ranges for the learning\n",
    "# rates and regularization strengths; if you are careful you should be able to\n",
    "# get a classification accuracy of over 0.35 on the validation set.\n",
    "\n",
    "from cs231n.classifiers import Softmax\n",
    "results = {}\n",
    "best_val = -1\n",
    "best_softmax = None\n",
    "\n",
    "################################################################################\n",
    "# TODO:                                                                        #\n",
    "# Use the validation set to set the learning rate and regularization strength. #\n",
    "# This should be identical to the validation that you did for the SVM; save    #\n",
    "# the best trained softmax classifer in best_softmax.                          #\n",
    "################################################################################\n",
    "\n",
    "# Provided as a reference. You may or may not want to change these hyperparameters\n",
    "learning_rates = [5e-8, 5e-6]\n",
    "regularization_strengths = [5e3, 5e5]\n",
    "\n",
    "# *****START OF YOUR CODE (DO NOT DELETE/MODIFY THIS LINE)*****\n",
    "\n",
    "# follow the same steps in svm.ipynb: \n",
    "# first select learning rate that makes lose go down, \n",
    "# then select the regularization strength by cross-validation\n",
    "\n",
    "for lr in [5e-8, 1e-7, 5e-7, 1e-6, 5e-6]:\n",
    "    # instead of   np.linspace(learning_rates[0], learning_rates[1], num=5)\n",
    "    for reg in [5e3, 7.5e3, 1e4, 2.5e4, 5e4, 7.5e4, 1e5, 2.5e5, 5e5]:\n",
    "    # instead of   np.linspace(regularization_strengths[0], regularization_strengths[1], num=5)\n",
    "        softmax_clf = Softmax()\n",
    "        softmax_clf.train(X_train, y_train, learning_rate=lr, reg=reg, num_iters=200)\n",
    "        y_train_pred = softmax_clf.predict(X_train)\n",
    "        y_val_pred = softmax_clf.predict(X_val)\n",
    "        train_acc = np.mean(y_train_pred == y_train)\n",
    "        val_acc = np.mean(y_val_pred == y_val)\n",
    "        \n",
    "        print('lr %e reg %e train accuracy: %f val accuracy: %f' % (\n",
    "                lr, reg, train_acc, val_acc))\n",
    "        \n",
    "        if val_acc > best_val:\n",
    "            best_val = val_acc\n",
    "            best_softmax = softmax_clf\n",
    "\n",
    "pass\n",
    "\n",
    "# *****END OF YOUR CODE (DO NOT DELETE/MODIFY THIS LINE)*****\n",
    "    \n",
    "# Print out results.\n",
    "for lr, reg in sorted(results):\n",
    "    train_accuracy, val_accuracy = results[(lr, reg)]\n",
    "    print('lr %e reg %e train accuracy: %f val accuracy: %f' % (\n",
    "                lr, reg, train_accuracy, val_accuracy))\n",
    "    \n",
    "print('best validation accuracy achieved during cross-validation: %f' % best_val)"
   ]
  },
  {
   "cell_type": "code",
   "execution_count": 47,
   "metadata": {
    "id": "test"
   },
   "outputs": [
    {
     "name": "stdout",
     "output_type": "stream",
     "text": [
      "softmax on raw pixels final test set accuracy: 0.346000\n"
     ]
    }
   ],
   "source": [
    "# evaluate on test set\n",
    "# Evaluate the best softmax on test set\n",
    "y_test_pred = best_softmax.predict(X_test)\n",
    "test_accuracy = np.mean(y_test == y_test_pred)\n",
    "print('softmax on raw pixels final test set accuracy: %f' % (test_accuracy, ))"
   ]
  },
  {
   "cell_type": "markdown",
   "metadata": {
    "tags": [
     "pdf-inline"
    ]
   },
   "source": [
    "**Inline Question 2** - *True or False*\n",
    "\n",
    "Suppose the overall training loss is defined as the sum of the per-datapoint loss over all training examples. It is possible to add a new datapoint to a training set that would leave the SVM loss unchanged, but this is not the case with the Softmax classifier loss.\n",
    "\n",
    "$\\color{blue}{\\textit Your Answer:}$\n",
    "\n",
    "True\n",
    "\n",
    "$\\color{blue}{\\textit Your Explanation:}$\n",
    "\n",
    "- Multiclass SVM中$L_{i}=\\max(0, s_{j}-s_{y_{i}}+\\Delta)$，故$L_{i}$可能为0\n",
    "- Softmax的$L_{i}$是$-\\log(\\frac{ e^{f_{y_{i}}} }{ \\sum_{j}e^{f_{j}} })$，分母必然非0，而一般类别不止一类，故$L_{i}$不为0\n"
   ]
  },
  {
   "cell_type": "code",
   "execution_count": 48,
   "metadata": {},
   "outputs": [
    {
     "data": {
      "image/png": "[encoded data removed]",
      "text/plain": [
       "<Figure size 432x288 with 10 Axes>"
      ]
     },
     "metadata": {
      "needs_background": "light"
     },
     "output_type": "display_data"
    }
   ],
   "source": [
    "# Visualize the learned weights for each class\n",
    "w = best_softmax.W[:-1,:] # strip out the bias\n",
    "w = w.reshape(32, 32, 3, 10)\n",
    "\n",
    "w_min, w_max = np.min(w), np.max(w)\n",
    "\n",
    "classes = ['plane', 'car', 'bird', 'cat', 'deer', 'dog', 'frog', 'horse', 'ship', 'truck']\n",
    "for i in range(10):\n",
    "    plt.subplot(2, 5, i + 1)\n",
    "    \n",
    "    # Rescale the weights to be between 0 and 255\n",
    "    wimg = 255.0 * (w[:, :, :, i].squeeze() - w_min) / (w_max - w_min)\n",
    "    plt.imshow(wimg.astype('uint8'))\n",
    "    plt.axis('off')\n",
    "    plt.title(classes[i])"
   ]
  },
  {
   "cell_type": "code",
   "execution_count": null,
   "metadata": {},
   "outputs": [],
   "source": []
  }
 ],
 "metadata": {
  "kernelspec": {
   "display_name": "Python 3",
   "language": "python",
   "name": "python3"
  },
  "language_info": {
   "codemirror_mode": {
    "name": "ipython",
    "version": 3
   },
   "file_extension": ".py",
   "mimetype": "text/x-python",
   "name": "python",
   "nbconvert_exporter": "python",
   "pygments_lexer": "ipython3",
   "version": "3.7.3"
  }
 },
 "nbformat": 4,
 "nbformat_minor": 1
}
